{
 "cells": [
  {
   "cell_type": "code",
   "execution_count": 1,
   "id": "4679e55c",
   "metadata": {},
   "outputs": [
    {
     "name": "stdout",
     "output_type": "stream",
     "text": [
      "Model loaded successfully!\n"
     ]
    }
   ],
   "source": [
    "import torch\n",
    "import torch.nn as nn\n",
    "from torchvision import models\n",
    "\n",
    "# Recreate the model architecture\n",
    "class DeepfakeDetector(nn.Module):\n",
    "    def __init__(self):\n",
    "        super(DeepfakeDetector, self).__init__()\n",
    "        self.model = models.efficientnet_b1(weights=models.EfficientNet_B1_Weights.IMAGENET1K_V1)\n",
    "        self.model.classifier = nn.Sequential(\n",
    "            nn.Linear(self.model.classifier[1].in_features, 2048),\n",
    "            nn.ReLU(),\n",
    "            nn.Dropout(0.8),\n",
    "            nn.Linear(2048, 2048),\n",
    "            nn.ReLU(),\n",
    "            nn.Dropout(0.8),\n",
    "            nn.Linear(2048, 1),\n",
    "            nn.Sigmoid()\n",
    "        )\n",
    "\n",
    "    def forward(self, x):\n",
    "        return self.model(x)\n",
    "\n",
    "# Initialize model\n",
    "device = torch.device(\"cuda\" if torch.cuda.is_available() else \"cpu\")\n",
    "model = DeepfakeDetector().to(device)\n",
    "\n",
    "# Load saved weights\n",
    "model.load_state_dict(torch.load(\"Sample_new_1.8L_deepfake_detector_linkedin.pth\", map_location=device))\n",
    "model.eval()  # Set model to evaluation mode\n",
    "\n",
    "print(\"Model loaded successfully!\")\n"
   ]
  },
  {
   "cell_type": "markdown",
   "id": "b89c934b",
   "metadata": {},
   "source": [
    "## Convert image  to .jpg"
   ]
  },
  {
   "cell_type": "code",
   "execution_count": null,
   "id": "783995a9",
   "metadata": {},
   "outputs": [],
   "source": [
    "from PIL import Image\n",
    "import cv2\n",
    "import os\n",
    "\n",
    "def convert_to_jpg(input_path, output_path=None):\n",
    "    # Load the image\n",
    "    img = Image.open(input_path)\n",
    "\n",
    "    # Convert if image has an alpha channel (transparency)\n",
    "    if img.mode in (\"RGBA\", \"LA\") or (img.mode == \"P\" and \"transparency\" in img.info):\n",
    "        background = Image.new(\"RGB\", img.size, (255, 255, 255))  # White background\n",
    "        img = Image.alpha_composite(background, img.convert(\"RGBA\"))\n",
    "\n",
    "    # Define output path\n",
    "    if output_path is None:\n",
    "        output_path = os.path.splitext(input_path)[0] + \".jpg\"\n",
    "\n",
    "    # Save as JPG\n",
    "    img.convert(\"RGB\").save(output_path, \"JPEG\", quality=95)\n",
    "    print(f\"Converted: {input_path} → {output_path}\")\n",
    "\n",
    "# Example usage\n",
    "convert_to_jpg(\"/home/libra-03/Desktop/DL_Assignment/Testings/deep.jpg\")  # Change to your file path\n"
   ]
  },
  {
   "cell_type": "markdown",
   "id": "b04e6b6b",
   "metadata": {},
   "source": [
    "## Preprocess the Image"
   ]
  },
  {
   "cell_type": "markdown",
   "id": "c4509a96",
   "metadata": {},
   "source": [
    "### Upscale"
   ]
  },
  {
   "cell_type": "code",
   "execution_count": 72,
   "id": "cf16c949",
   "metadata": {},
   "outputs": [
    {
     "name": "stdout",
     "output_type": "stream",
     "text": [
      "Image /home/libra-03/Desktop/DL_Assignment/Testing_Images/hardik_fake.jpg is already 512x512 or larger, copying without changes.\n"
     ]
    }
   ],
   "source": [
    "import os\n",
    "import cv2\n",
    "import shutil\n",
    "from realesrgan import RealESRGANer\n",
    "from basicsr.archs.rrdbnet_arch import RRDBNet\n",
    "from basicsr.utils.download_util import load_file_from_url\n",
    "\n",
    "# Define Real-ESRGAN upscaler model\n",
    "def load_upscaler(model_name='RealESRGAN_x4plus'):\n",
    "    model = RRDBNet(num_in_ch=3, num_out_ch=3, num_feat=64, num_block=23, num_grow_ch=32, scale=4)\n",
    "    model_path = os.path.join('weights', f'{model_name}.pth')\n",
    "\n",
    "    if not os.path.isfile(model_path):\n",
    "        model_url = f'https://github.com/xinntao/Real-ESRGAN/releases/download/v0.1.0/{model_name}.pth'\n",
    "        model_path = load_file_from_url(url=model_url, model_dir='weights', progress=True, file_name=None)\n",
    "\n",
    "    upscaler = RealESRGANer(scale=4, model_path=model_path, model=model, tile=0, tile_pad=10, pre_pad=0, half=False)\n",
    "    return upscaler\n",
    "\n",
    "# Upscale images smaller than 512x512\n",
    "def upscale_image(input_path, output_path, upscaler):\n",
    "    img = cv2.imread(input_path, cv2.IMREAD_UNCHANGED)\n",
    "    h, w = img.shape[:2]\n",
    "\n",
    "    if h >= 512 and w >= 512:\n",
    "        print(f\"Skipping {input_path} (Already >= 512x512)\")\n",
    "        shutil.copy(input_path, output_path)\n",
    "        return\n",
    "\n",
    "    scale_h = 512 / h\n",
    "    scale_w = 512 / w\n",
    "    scale = min(scale_h, scale_w)\n",
    "\n",
    "    print(f\"Upscaled {input_path} with scale factor {scale:.2f}\")\n",
    "    output, _ = upscaler.enhance(img, outscale=scale)\n",
    "    output = cv2.resize(output, (512, 512), interpolation=cv2.INTER_CUBIC)\n",
    "    cv2.imwrite(output_path, output)\n",
    "\n",
    "# Function to process a single image\n",
    "def process_image(input_path, output_path):\n",
    "    upscaler = load_upscaler()\n",
    "\n",
    "    img = cv2.imread(input_path, cv2.IMREAD_UNCHANGED)\n",
    "    h, w = img.shape[:2]\n",
    "\n",
    "    if h < 512 or w < 512:\n",
    "        upscale_image(input_path, output_path, upscaler)\n",
    "    else:\n",
    "        print(f\"Image {input_path} is already 512x512 or larger, copying without changes.\")\n",
    "        shutil.copy(input_path, output_path)\n",
    "\n",
    "# Example usage\n",
    "input_image_path = \"/home/libra-03/Desktop/DL_Assignment/Testing_Images/hardik_fake.jpg\"  # Replace with your input image path\n",
    "output_image_path = \"/home/libra-03/Desktop/DL_Assignment/Testing_Images/hardik_fake_scaledup.jpg\"  # Replace with your output image path\n",
    "\n",
    "process_image(input_image_path, output_image_path)\n"
   ]
  },
  {
   "cell_type": "markdown",
   "id": "e741404f",
   "metadata": {},
   "source": [
    "### Downscale"
   ]
  },
  {
   "cell_type": "code",
   "execution_count": 73,
   "id": "23260c0c",
   "metadata": {},
   "outputs": [
    {
     "name": "stdout",
     "output_type": "stream",
     "text": [
      "Downscaling /home/libra-03/Desktop/DL_Assignment/Testing_Images/hardik_fake_scaledup.jpg: Original size 961x915 → Resizing to 512x512\n"
     ]
    }
   ],
   "source": [
    "from PIL import Image\n",
    "import shutil\n",
    "\n",
    "# Function to downscale images larger than 512x512\n",
    "def downscale_image(input_path, output_path, target_size=(512, 512)):\n",
    "    img = Image.open(input_path).convert(\"RGB\")\n",
    "    w, h = img.size\n",
    "\n",
    "    if w <= 512 and h <= 512:\n",
    "        print(f\"Skipping {input_path} (Already <= 512x512)\")\n",
    "        shutil.copy(input_path, output_path)\n",
    "        return\n",
    "\n",
    "    print(f\"Downscaling {input_path}: Original size {w}x{h} → Resizing to {target_size[0]}x{target_size[1]}\")\n",
    "    img.thumbnail(target_size, Image.LANCZOS)\n",
    "\n",
    "    new_img = Image.new(\"RGB\", target_size, (0, 0, 0))\n",
    "    new_w, new_h = img.size\n",
    "    paste_x = (target_size[0] - new_w) // 2\n",
    "    paste_y = (target_size[1] - new_h) // 2\n",
    "    new_img.paste(img, (paste_x, paste_y))\n",
    "\n",
    "    new_img.save(output_path)\n",
    "\n",
    "# Example usage\n",
    "input_image_path = \"/home/libra-03/Desktop/DL_Assignment/Testing_Images/hardik_fake_scaledup.jpg\"  # Replace with your input image path\n",
    "output_image_path = \"/home/libra-03/Desktop/DL_Assignment/Testing_Images/hardik_fake_scaleddown.jpg\"  # Replace with your output image path\n",
    "\n",
    "downscale_image(input_image_path, output_image_path)\n"
   ]
  },
  {
   "cell_type": "markdown",
   "id": "fdae79ca",
   "metadata": {},
   "source": [
    "## Testing the Model"
   ]
  },
  {
   "cell_type": "code",
   "execution_count": 76,
   "id": "ff47765c",
   "metadata": {},
   "outputs": [
    {
     "name": "stdout",
     "output_type": "stream",
     "text": [
      "Prediction Score: 0.0666 (Real)\n"
     ]
    }
   ],
   "source": [
    "from PIL import Image\n",
    "import torchvision.transforms as transforms\n",
    "\n",
    "# Preprocessing\n",
    "transform = transforms.Compose([\n",
    "    transforms.Resize((512, 512)),\n",
    "    transforms.ToTensor(),\n",
    "    transforms.Normalize(mean=[0.485, 0.456, 0.406], std=[0.229, 0.224, 0.225])\n",
    "])\n",
    "\n",
    "\n",
    "# Predict a Single Image\n",
    "def predict_image(model, image_path):\n",
    "    model.eval()\n",
    "    image = Image.open(image_path).convert(\"RGB\")\n",
    "    image = transform(image).unsqueeze(0).to(device)\n",
    "    with torch.no_grad():\n",
    "        output = model(image).item()\n",
    "    print(f\"Prediction Score: {output:.4f} ({'Fake' if output > 0.5 else 'Real'})\")\n",
    "\n",
    "# Example usage:\n",
    "predict_image(model, \"/home/libra-03/Desktop/DL_Assignment/testings_downscaled/modi2.jpg\")\n"
   ]
  },
  {
   "cell_type": "code",
   "execution_count": 77,
   "id": "f1755241",
   "metadata": {},
   "outputs": [
    {
     "name": "stdout",
     "output_type": "stream",
     "text": [
      "Train/Real: 150000 images\n",
      "Train/Fake: 150000 images\n",
      "Test/Real: 15000 images\n",
      "Test/Fake: 15000 images\n",
      "Val/Real: 15000 images\n",
      "Val/Fake: 15000 images\n"
     ]
    }
   ],
   "source": [
    "import os\n",
    "\n",
    "# Function to count images in subdirectories\n",
    "def count_images(root_folder):\n",
    "    counts = {}\n",
    "\n",
    "    for split in [\"Train\", \"Test\", \"Val\"]:  # Main subfolders\n",
    "        split_path = os.path.join(root_folder, split)\n",
    "\n",
    "        if not os.path.exists(split_path):\n",
    "            print(f\"Skipping {split_path}, folder not found.\")\n",
    "            continue\n",
    "\n",
    "        for category in [\"Real\", \"Fake\"]:  # Child subfolders\n",
    "            category_path = os.path.join(split_path, category)\n",
    "\n",
    "            if os.path.exists(category_path):\n",
    "                image_count = len([f for f in os.listdir(category_path) if f.lower().endswith(('.png', '.jpg', '.jpeg', '.bmp', '.tiff'))])\n",
    "                counts[f\"{split}/{category}\"] = image_count\n",
    "            else:\n",
    "                print(f\"Skipping {category_path}, folder not found.\")\n",
    "\n",
    "    return counts\n",
    "\n",
    "# Define root folder path\n",
    "root_folder = \"new_sample_1.8L\"  # Change this to your actual path\n",
    "\n",
    "# Get image counts\n",
    "image_counts = count_images(root_folder)\n",
    "\n",
    "# Print results\n",
    "for folder, count in image_counts.items():\n",
    "    print(f\"{folder}: {count} images\")\n"
   ]
  },
  {
   "cell_type": "code",
   "execution_count": null,
   "id": "bd7b268c",
   "metadata": {},
   "outputs": [],
   "source": []
  }
 ],
 "metadata": {
  "kernelspec": {
   "display_name": "Python 3 (ipykernel)",
   "language": "python",
   "name": "python3"
  },
  "language_info": {
   "codemirror_mode": {
    "name": "ipython",
    "version": 3
   },
   "file_extension": ".py",
   "mimetype": "text/x-python",
   "name": "python",
   "nbconvert_exporter": "python",
   "pygments_lexer": "ipython3",
   "version": "3.12.3"
  }
 },
 "nbformat": 4,
 "nbformat_minor": 5
}
